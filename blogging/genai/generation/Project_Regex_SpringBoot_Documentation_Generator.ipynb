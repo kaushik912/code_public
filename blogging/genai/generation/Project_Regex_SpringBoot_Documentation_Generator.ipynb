{
 "cells": [
  {
   "cell_type": "markdown",
   "id": "9499f7b5-fa9d-4a87-9ed7-f19a39313abc",
   "metadata": {},
   "source": [
    "# Spring Boot Project Documentation Generator"
   ]
  },
  {
   "cell_type": "code",
   "execution_count": 1,
   "id": "89e08ba6-48fa-4ac5-ace4-74ae38772834",
   "metadata": {},
   "outputs": [
    {
     "name": "stdout",
     "output_type": "stream",
     "text": [
      "Python 3.12.8\n"
     ]
    }
   ],
   "source": [
    "!python --version"
   ]
  },
  {
   "cell_type": "code",
   "execution_count": 2,
   "id": "3fcc905d-d26f-4ab8-9d35-f57cd24ecbf0",
   "metadata": {},
   "outputs": [],
   "source": [
    "import os"
   ]
  },
  {
   "cell_type": "code",
   "execution_count": 3,
   "id": "0ede230b-57be-4d6b-b3f7-043ad0ddbb6b",
   "metadata": {},
   "outputs": [],
   "source": [
    "os.environ['CLOUD_ENV']='DEV51'"
   ]
  },
  {
   "cell_type": "code",
   "execution_count": 5,
   "id": "ebf07339-4c93-49e0-b76e-d04bf8780912",
   "metadata": {},
   "outputs": [],
   "source": [
    "import paypal.aiplatform as paypal_aiplatform\n",
    "import vertexai\n",
    "from google.cloud import aiplatform\n",
    "project_id = \"dev52-test-apps-dpeaw\"\n",
    "location = \"us-central1\"\n",
    "# Initialize SDK\n",
    "paypal_aiplatform.init(\"paypal_genai_sdk_config.json\")\n",
    "vertexai.init(project=project_id, location=location)"
   ]
  },
  {
   "cell_type": "code",
   "execution_count": 44,
   "id": "66427170-7d5b-49a6-a26a-40005c64dc3d",
   "metadata": {},
   "outputs": [],
   "source": [
    "from pathlib import Path\n",
    "import re"
   ]
  },
  {
   "cell_type": "code",
   "execution_count": 40,
   "id": "b9422113-f3e3-40fe-9634-8624f000eb98",
   "metadata": {},
   "outputs": [],
   "source": [
    "def extract_methods(file_path):\n",
    "    \"\"\"Extracts method names and full method bodies from a given Java file.\"\"\"\n",
    "    with open(file_path, 'r', encoding='utf-8') as file:\n",
    "        content = file.read()\n",
    "    \n",
    "    # Match full method bodies in Java (simplified regex)\n",
    "    method_pattern = re.findall(r'public\\s+[\\w<>\\[\\]]+\\s+(\\w+)\\s*\\(.*?\\)\\s*\\{(.*?)\\n\\}', content, re.DOTALL)\n",
    "    \n",
    "    methods = {}\n",
    "    for method_name, method_body in method_pattern:\n",
    "        methods[method_name] = method_body.strip()\n",
    "    \n",
    "    return methods"
   ]
  },
  {
   "cell_type": "code",
   "execution_count": 41,
   "id": "071317d6-5862-4d05-8e53-9ee501af3aca",
   "metadata": {},
   "outputs": [],
   "source": [
    "def analyze_project_structure(project_path):\n",
    "    \"\"\"Scans the Spring Boot project and organizes files by type with full method details.\"\"\"\n",
    "    project_data = {'controllers': {}, 'services': {}, 'repositories': {}}\n",
    "    for root, _, files in os.walk(project_path):\n",
    "        for file in files:\n",
    "            if file.endswith('.java'):\n",
    "                file_path = Path(root) / file\n",
    "                if 'controller' in root.lower():\n",
    "                    project_data['controllers'][file] = extract_methods(file_path)\n",
    "                elif 'service' in root.lower():\n",
    "                    project_data['services'][file] = extract_methods(file_path)\n",
    "                elif 'repository' in root.lower():\n",
    "                    project_data['repositories'][file] = extract_methods(file_path)\n",
    "    return project_data"
   ]
  },
  {
   "cell_type": "code",
   "execution_count": 42,
   "id": "c7735904-a9ff-49c9-a834-7348a991af20",
   "metadata": {},
   "outputs": [],
   "source": [
    "def generate_documentation(project_data):\n",
    "    \n",
    "    prompt = f\"\"\"\n",
    "    Generate detailed documentation for a Spring Boot project with the following structure:\n",
    "    \n",
    "    Controllers:\n",
    "    {project_data['controllers']}\n",
    "    \n",
    "    Services:\n",
    "    {project_data['services']}\n",
    "    \n",
    "    Repositories:\n",
    "    {project_data['repositories']}\n",
    "    \n",
    "    Provide insights on:\n",
    "    - Request handling in controllers\n",
    "    - Business logic in services\n",
    "    - Database interactions in repositories\n",
    "    - Dependencies and method interactions\n",
    "    \"\"\"\n",
    "    PROJECT_ID = \"dev52-test-apps-dpeaw\"\n",
    "    vertexai.init(project=PROJECT_ID, location=\"us-central1\")\n",
    "    model = GenerativeModel(\n",
    "        model_name=\"gemini-2.0-flash-thinking-exp-01-21\", #\"gemini-2.0-flash-exp\", #\"gemini-1.5-flash-002\",\n",
    "        system_instruction=[\n",
    "            \"You are a software documentation expert.\"\n",
    "        ],\n",
    "    )\n",
    "    response = model.generate_content([prompt])\n",
    "    return response.text"
   ]
  },
  {
   "cell_type": "code",
   "execution_count": 45,
   "id": "1d20230e-6369-444a-94e0-60d97b94bf25",
   "metadata": {},
   "outputs": [],
   "source": [
    "## Client Code\n",
    "project_path = \"/Users/kkailasnath/projects/spring/community/docker/docker-compose-springboot-mysql\"\n",
    "project_data = analyze_project_structure(project_path)"
   ]
  },
  {
   "cell_type": "code",
   "execution_count": 46,
   "id": "f3eeb96e-f49e-42bc-968c-201f7b19c105",
   "metadata": {},
   "outputs": [],
   "source": [
    "documentation = generate_documentation(project_data)"
   ]
  },
  {
   "cell_type": "code",
   "execution_count": 47,
   "id": "9e464dc4-3a7b-4027-b999-7b9a0212359d",
   "metadata": {},
   "outputs": [
    {
     "name": "stdout",
     "output_type": "stream",
     "text": [
      "Documentation generated: SpringBoot_Documentation.md\n"
     ]
    }
   ],
   "source": [
    "with open(\"SpringBoot_Documentation.md\", \"w\", encoding=\"utf-8\") as doc_file:\n",
    "        doc_file.write(documentation)\n",
    "print(\"Documentation generated: SpringBoot_Documentation.md\")\n"
   ]
  },
  {
   "cell_type": "code",
   "execution_count": null,
   "id": "0a7dcd06-8aee-47e7-a233-926a15584ff1",
   "metadata": {},
   "outputs": [],
   "source": []
  }
 ],
 "metadata": {
  "kernelspec": {
   "display_name": "Python 3 (ipykernel)",
   "language": "python",
   "name": "python3"
  },
  "language_info": {
   "codemirror_mode": {
    "name": "ipython",
    "version": 3
   },
   "file_extension": ".py",
   "mimetype": "text/x-python",
   "name": "python",
   "nbconvert_exporter": "python",
   "pygments_lexer": "ipython3",
   "version": "3.12.8"
  }
 },
 "nbformat": 4,
 "nbformat_minor": 5
}
