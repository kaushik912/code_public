{
  "cells": [
    {
      "cell_type": "markdown",
      "metadata": {
        "id": "view-in-github",
        "colab_type": "text"
      },
      "source": [
        "<a href=\"https://colab.research.google.com/github/kaushik912/code_public/blob/main/blogging/genai/python/langchain-agentic-tryout.ipynb\" target=\"_parent\"><img src=\"https://colab.research.google.com/assets/colab-badge.svg\" alt=\"Open In Colab\"/></a>"
      ]
    },
    {
      "cell_type": "code",
      "source": [
        "!pip install langchain openai langchain-community"
      ],
      "metadata": {
        "id": "QZyuXd60Cqpx"
      },
      "execution_count": null,
      "outputs": []
    },
    {
      "cell_type": "markdown",
      "source": [],
      "metadata": {
        "id": "w3CEzz61DjVH"
      }
    },
    {
      "cell_type": "code",
      "source": [
        "import getpass\n",
        "import os\n",
        "\n",
        "if \"OPENAI_API_KEY\" not in os.environ:\n",
        "    os.environ[\"OPENAI_API_KEY\"] = getpass.getpass(\"Enter your OpenAI API key: \")"
      ],
      "metadata": {
        "id": "5EUJ6DXWDKZR",
        "outputId": "03ee79be-2402-4079-c050-5313e1de3ed4",
        "colab": {
          "base_uri": "https://localhost:8080/"
        }
      },
      "execution_count": null,
      "outputs": [
        {
          "name": "stdout",
          "output_type": "stream",
          "text": [
            "Enter your OpenAI API key: ··········\n"
          ]
        }
      ]
    },
    {
      "cell_type": "code",
      "source": [
        "import os\n",
        "from langchain.chat_models import ChatOpenAI\n",
        "from langchain.schema import SystemMessage, HumanMessage\n",
        "from langchain.memory import ConversationBufferMemory\n",
        "from langchain.chains import LLMChain\n",
        "from langchain.prompts import PromptTemplate\n",
        "from langchain.tools import Tool\n",
        "from langchain.agents import initialize_agent\n",
        "from langchain.agents import AgentType\n",
        "from langchain.utilities import SerpAPIWrapper\n",
        "\n",
        "\n",
        "# -------------------- MEMORY (Conversation Context) --------------------\n",
        "memory = ConversationBufferMemory(memory_key=\"chat_history\")\n",
        "\n",
        "# -------------------- TOOLS (Using Calculator as an Example) --------------------\n",
        "def calculator_tool(query: str):\n",
        "    \"\"\"A simple calculator tool that evaluates mathematical expressions.\"\"\"\n",
        "    try:\n",
        "        return eval(query)\n",
        "    except Exception as e:\n",
        "        return str(e)\n",
        "\n",
        "calculator = Tool(\n",
        "    name=\"Calculator\",\n",
        "    func=calculator_tool,\n",
        "    description=\"Useful for mathematical calculations. Input must be a valid expression.\"\n",
        ")\n",
        "\n",
        "# -------------------- PROMPT TEMPLATE --------------------\n",
        "template = \"\"\"You are a helpful AI assistant.\n",
        "You will remember previous conversations and assist the user.\n",
        "\n",
        "{chat_history}\n",
        "\n",
        "User: {user_input}\n",
        "AI:\"\"\"\n",
        "\n",
        "prompt = PromptTemplate(\n",
        "    input_variables=[\"chat_history\", \"user_input\"],\n",
        "    template=template,\n",
        ")\n",
        "\n",
        "# -------------------- CHAIN (Processing the conversation) --------------------\n",
        "llm = ChatOpenAI(model=\"gpt-3.5-turbo\", temperature=0.7)\n",
        "\n",
        "chain = LLMChain(\n",
        "    llm=llm,\n",
        "    prompt=prompt,\n",
        "    memory=memory\n",
        ")\n",
        "\n",
        "# -------------------- AGENT (Combining LLM, Memory, and Tools) --------------------\n",
        "agent = initialize_agent(\n",
        "    tools=[calculator],  # Add tools here\n",
        "    llm=llm,\n",
        "    agent=AgentType.CONVERSATIONAL_REACT_DESCRIPTION,\n",
        "    memory=memory,\n",
        "    verbose=True  # Enables detailed output of steps\n",
        ")\n",
        "\n",
        "# -------------------- TESTING --------------------\n",
        "print(\"Starting AI Assistant...\\n\")\n",
        "\n",
        "print(agent.run(\"What is 25 + 75?\"))\n",
        "print(agent.run(\"Now multiply the result by 2\"))\n",
        "print(agent.run(\"Tell me a fun fact about AI!\"))\n",
        "print(agent.run(\"What was the previous math answer?\"))  # Memory in action!\n"
      ],
      "metadata": {
        "id": "g9dGf8nhCsCv",
        "outputId": "ca23c786-7ba2-4df0-b68f-ab62f837b90c",
        "colab": {
          "base_uri": "https://localhost:8080/"
        }
      },
      "execution_count": null,
      "outputs": [
        {
          "output_type": "stream",
          "name": "stderr",
          "text": [
            "<ipython-input-3-f47aa898885f>:14: LangChainDeprecationWarning: Please see the migration guide at: https://python.langchain.com/docs/versions/migrating_memory/\n",
            "  memory = ConversationBufferMemory(memory_key=\"chat_history\")\n",
            "<ipython-input-3-f47aa898885f>:45: LangChainDeprecationWarning: The class `ChatOpenAI` was deprecated in LangChain 0.0.10 and will be removed in 1.0. An updated version of the class exists in the :class:`~langchain-openai package and should be used instead. To use it run `pip install -U :class:`~langchain-openai` and import as `from :class:`~langchain_openai import ChatOpenAI``.\n",
            "  llm = ChatOpenAI(model=\"gpt-3.5-turbo\", temperature=0.7)\n",
            "<ipython-input-3-f47aa898885f>:47: LangChainDeprecationWarning: The class `LLMChain` was deprecated in LangChain 0.1.17 and will be removed in 1.0. Use :meth:`~RunnableSequence, e.g., `prompt | llm`` instead.\n",
            "  chain = LLMChain(\n",
            "<ipython-input-3-f47aa898885f>:54: LangChainDeprecationWarning: LangChain agents will continue to be supported, but it is recommended for new use cases to be built with LangGraph. LangGraph offers a more flexible and full-featured framework for building agents, including support for tool-calling, persistence of state, and human-in-the-loop workflows. For details, refer to the `LangGraph documentation <https://langchain-ai.github.io/langgraph/>`_ as well as guides for `Migrating from AgentExecutor <https://python.langchain.com/docs/how_to/migrate_agent/>`_ and LangGraph's `Pre-built ReAct agent <https://langchain-ai.github.io/langgraph/how-tos/create-react-agent/>`_.\n",
            "  agent = initialize_agent(\n",
            "<ipython-input-3-f47aa898885f>:65: LangChainDeprecationWarning: The method `Chain.run` was deprecated in langchain 0.1.0 and will be removed in 1.0. Use :meth:`~invoke` instead.\n",
            "  print(agent.run(\"What is 25 + 75?\"))\n"
          ]
        },
        {
          "output_type": "stream",
          "name": "stdout",
          "text": [
            "Starting AI Assistant...\n",
            "\n",
            "\n",
            "\n",
            "\u001b[1m> Entering new AgentExecutor chain...\u001b[0m\n",
            "\u001b[32;1m\u001b[1;3mThought: Do I need to use a tool? Yes\n",
            "Action: Calculator\n",
            "Action Input: 25 + 75\u001b[0m\n",
            "Observation: \u001b[36;1m\u001b[1;3m100\u001b[0m\n",
            "Thought:\u001b[32;1m\u001b[1;3mAI: The result of 25 + 75 is 100. How can I assist you further?\u001b[0m\n",
            "\n",
            "\u001b[1m> Finished chain.\u001b[0m\n",
            "The result of 25 + 75 is 100. How can I assist you further?\n",
            "\n",
            "\n",
            "\u001b[1m> Entering new AgentExecutor chain...\u001b[0m\n",
            "\u001b[32;1m\u001b[1;3mThought: Do I need to use a tool? Yes\n",
            "Action: Calculator\n",
            "Action Input: (100 * 2)\u001b[0m\n",
            "Observation: \u001b[36;1m\u001b[1;3m200\u001b[0m\n",
            "Thought:\u001b[32;1m\u001b[1;3mDo I need to use a tool? No\n",
            "AI: The result of multiplying 100 by 2 is 200. How can I assist you further?\u001b[0m\n",
            "\n",
            "\u001b[1m> Finished chain.\u001b[0m\n",
            "The result of multiplying 100 by 2 is 200. How can I assist you further?\n",
            "\n",
            "\n",
            "\u001b[1m> Entering new AgentExecutor chain...\u001b[0m\n",
            "\u001b[32;1m\u001b[1;3mThought: Do I need to use a tool? No\n",
            "AI: One fun fact about AI is that it can be trained to play complex games like chess and Go at a superhuman level. It's fascinating how AI can learn and improve its skills over time! Is there anything else you'd like to know about AI?\u001b[0m\n",
            "\n",
            "\u001b[1m> Finished chain.\u001b[0m\n",
            "One fun fact about AI is that it can be trained to play complex games like chess and Go at a superhuman level. It's fascinating how AI can learn and improve its skills over time! Is there anything else you'd like to know about AI?\n",
            "\n",
            "\n",
            "\u001b[1m> Entering new AgentExecutor chain...\u001b[0m\n",
            "\u001b[32;1m\u001b[1;3mThought: Do I need to use a tool? Yes\n",
            "Action: Calculator\n",
            "Action Input: 200\u001b[0m\n",
            "Observation: \u001b[36;1m\u001b[1;3m200\u001b[0m\n",
            "Thought:\u001b[32;1m\u001b[1;3mDo I need to use a tool? No\n",
            "AI: The previous math answer was 200. How can I assist you further?\u001b[0m\n",
            "\n",
            "\u001b[1m> Finished chain.\u001b[0m\n",
            "The previous math answer was 200. How can I assist you further?\n"
          ]
        }
      ]
    },
    {
      "cell_type": "markdown",
      "source": [
        "### Using Google Search with API Key"
      ],
      "metadata": {
        "id": "x2vMfBKSQSMi"
      }
    },
    {
      "cell_type": "code",
      "source": [
        "from langchain.tools import Tool\n",
        "from langchain.utilities import GoogleSearchAPIWrapper\n",
        "import getpass\n",
        "import os\n",
        "\n",
        "if \"GOOGLE_CSE_ID\" not in os.environ:\n",
        "    os.environ[\"GOOGLE_CSE_ID\"] = getpass.getpass(\"Enter your google CSE ID: \")\n",
        "\n",
        "if \"GOOGLE_API_KEY\" not in os.environ:\n",
        "    os.environ[\"GOOGLE_API_KEY\"] = getpass.getpass(\"Enter your google API Key: \")\n",
        "\n",
        "os.environ[\"GOOGLE_CSE_ID\"] = getpass.getpass(\"Enter your google CSE ID: \")\n",
        "os.environ[\"GOOGLE_API_KEY\"] = getpass.getpass(\"Enter your google API Key: \")"
      ],
      "metadata": {
        "id": "1x5ZWVzhDLze",
        "outputId": "07df55fd-252b-4ea6-dcb0-c9b10225895d",
        "colab": {
          "base_uri": "https://localhost:8080/"
        }
      },
      "execution_count": null,
      "outputs": [
        {
          "name": "stdout",
          "output_type": "stream",
          "text": [
            "Enter your google CSE ID: ··········\n",
            "Enter your google API Key: ··········\n"
          ]
        }
      ]
    },
    {
      "cell_type": "code",
      "source": [
        "\n",
        "search_tool = Tool(\n",
        "    name=\"Google Search\",\n",
        "    func=GoogleSearchAPIWrapper().run,\n",
        "    description=\"Fetches real-time search results using Google Custom Search API.\"\n",
        ")\n",
        "\n",
        "print(search_tool.run(\"Latest updates on AI\"))"
      ],
      "metadata": {
        "id": "nYTBxQT2Ohz8",
        "outputId": "7e6b1c53-f6c5-4c47-bc7e-6f58a1a58c74",
        "colab": {
          "base_uri": "https://localhost:8080/"
        }
      },
      "execution_count": null,
      "outputs": [
        {
          "output_type": "stream",
          "name": "stdout",
          "text": [
            "AI. News coverage on artificial intelligence and machine learning tech, the companies building them, and the ethical issues AI raises today. This encompasses ... The ethics of AI and how they affect you ... Person holding popcorn as Alibaba unveils Qwen QwQ-32B — a 32 billion parameter AI. We're announcing new updates to Gemini 2.0 Flash, plus introducing Gemini 2.0 Flash-Lite and Gemini 2.0 Pro Experimental. OpenAI CEO Sam Altman rebuffed a $97.4 billion unsolicited bid for OpenAI from a group of investors, led by Elon Musk. Dec 20, 2024 ... Google made significant strides in AI in December, releasing Gemini 2.0, their most capable model yet, and introducing new AI video and image generation models. Mar 11, 2024 ... I'm Zach Seward, the editorial director of AI initiatives at The New York Times, where I'm building a newsroom team charged with prototyping potential uses of ... Oct 9, 2023 ... I'm looking for the best spots to get the latest updates and news in the field. What websites, blogs, or other sources do you guys follow to stay on top of the ... MIT researchers developed a new approach for assessing predictions with a spatial dimension, like forecasting weather or mapping air pollution. The EU's latest general purpose AI Code of Practice draft kicks off lobbying fight. European AI companies are divided over the Code as well. News · https ... Find the latest Artificial Intelligence news from WIRED. See related science and technology articles, photos, slideshows and videos.\n"
          ]
        }
      ]
    },
    {
      "cell_type": "markdown",
      "source": [
        "## Using DuckDuckGo , doesn't require any API key"
      ],
      "metadata": {
        "id": "XQP3CVrxQWoZ"
      }
    },
    {
      "cell_type": "code",
      "source": [
        "!pip install -U duckduckgo-search"
      ],
      "metadata": {
        "id": "KsNNnoA1PGJz",
        "outputId": "032caa00-3550-4d61-9bf0-2f13ac2f86a6",
        "colab": {
          "base_uri": "https://localhost:8080/"
        }
      },
      "execution_count": null,
      "outputs": [
        {
          "output_type": "stream",
          "name": "stdout",
          "text": [
            "Collecting duckduckgo-search\n",
            "  Downloading duckduckgo_search-7.5.1-py3-none-any.whl.metadata (17 kB)\n",
            "Requirement already satisfied: click>=8.1.8 in /usr/local/lib/python3.11/dist-packages (from duckduckgo-search) (8.1.8)\n",
            "Collecting primp>=0.14.0 (from duckduckgo-search)\n",
            "  Downloading primp-0.14.0-cp38-abi3-manylinux_2_17_x86_64.manylinux2014_x86_64.whl.metadata (13 kB)\n",
            "Requirement already satisfied: lxml>=5.3.0 in /usr/local/lib/python3.11/dist-packages (from duckduckgo-search) (5.3.1)\n",
            "Downloading duckduckgo_search-7.5.1-py3-none-any.whl (20 kB)\n",
            "Downloading primp-0.14.0-cp38-abi3-manylinux_2_17_x86_64.manylinux2014_x86_64.whl (3.3 MB)\n",
            "\u001b[2K   \u001b[90m━━━━━━━━━━━━━━━━━━━━━━━━━━━━━━━━━━━━━━━━\u001b[0m \u001b[32m3.3/3.3 MB\u001b[0m \u001b[31m45.5 MB/s\u001b[0m eta \u001b[36m0:00:00\u001b[0m\n",
            "\u001b[?25hInstalling collected packages: primp, duckduckgo-search\n",
            "Successfully installed duckduckgo-search-7.5.1 primp-0.14.0\n"
          ]
        }
      ]
    },
    {
      "cell_type": "code",
      "source": [
        "from langchain.tools import Tool\n",
        "from langchain_community.utilities import DuckDuckGoSearchAPIWrapper\n",
        "\n",
        "search_tool = Tool(\n",
        "    name=\"DuckDuckGo Search\",\n",
        "    func=DuckDuckGoSearchAPIWrapper().run,\n",
        "    description=\"Fetches real-time search results using DuckDuckGo.\"\n",
        ")\n",
        "\n",
        "print(search_tool.run(\"Latest sports news\"))"
      ],
      "metadata": {
        "id": "PnaEQSwMO3Iy",
        "outputId": "1b818f7b-5a8c-40bd-821c-9073567ccf12",
        "colab": {
          "base_uri": "https://localhost:8080/"
        }
      },
      "execution_count": null,
      "outputs": [
        {
          "output_type": "stream",
          "name": "stdout",
          "text": [
            "Trending News & Rumors for Football, Basketball, Baseball, Hockey, Soccer & More 2025 NFL free agency live updates: Tracking latest signings, trades, rumors on Aaron Rodgers, Russell Wilson Keep it locked here for the latest offseason buzz heading into the legal tampering period Get the latest news on AFL, NRL, cricket, motorsport, basketball, boxing and more from FOX SPORTS. Find out the scores, results, fixtures, teams, videos and analysis of your favourite sports and teams. Get the latest breaking sports news and daily updates with in-depth coverage on Sporting News. Keep up with the latest offseason moves with Yahoo Sports NFL free agency, offseason updates: Sam Darnold is Seattle's $100.5M man, per reports 49ers at a crossroads after major free agency purge.\n"
          ]
        }
      ]
    },
    {
      "cell_type": "code",
      "source": [],
      "metadata": {
        "id": "dwlcJyQBPDSh"
      },
      "execution_count": null,
      "outputs": []
    }
  ],
  "metadata": {
    "colab": {
      "name": "Welcome To Colab",
      "provenance": [],
      "include_colab_link": true
    },
    "kernelspec": {
      "display_name": "Python 3",
      "name": "python3"
    }
  },
  "nbformat": 4,
  "nbformat_minor": 0
}