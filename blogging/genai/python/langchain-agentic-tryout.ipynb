{
  "cells": [
    {
      "cell_type": "markdown",
      "metadata": {
        "id": "view-in-github",
        "colab_type": "text"
      },
      "source": [
        "<a href=\"https://colab.research.google.com/github/kaushik912/code_public/blob/main/blogging/genai/python/langchain-agentic-tryout.ipynb\" target=\"_parent\"><img src=\"https://colab.research.google.com/assets/colab-badge.svg\" alt=\"Open In Colab\"/></a>"
      ]
    },
    {
      "cell_type": "code",
      "source": [
        "%%capture\n",
        "!pip install langchain openai langchain-community pymupdf serpapi"
      ],
      "metadata": {
        "id": "QZyuXd60Cqpx"
      },
      "execution_count": 1,
      "outputs": []
    },
    {
      "cell_type": "markdown",
      "source": [],
      "metadata": {
        "id": "w3CEzz61DjVH"
      }
    },
    {
      "cell_type": "code",
      "source": [
        "import getpass\n",
        "import os\n",
        "\n",
        "if \"OPENAI_API_KEY\" not in os.environ:\n",
        "    os.environ[\"OPENAI_API_KEY\"] = getpass.getpass(\"Enter your OpenAI API key: \")"
      ],
      "metadata": {
        "id": "5EUJ6DXWDKZR",
        "outputId": "01c8057c-d38c-46ed-c7e0-71466200018c",
        "colab": {
          "base_uri": "https://localhost:8080/"
        }
      },
      "execution_count": 3,
      "outputs": [
        {
          "name": "stdout",
          "output_type": "stream",
          "text": [
            "Enter your OpenAI API key: ··········\n"
          ]
        }
      ]
    },
    {
      "cell_type": "code",
      "source": [
        "import os\n",
        "import fitz  # PyMuPDF for PDF processing\n",
        "from langchain.chat_models import ChatOpenAI\n",
        "from langchain.memory import ConversationBufferMemory\n",
        "from langchain.tools import Tool\n",
        "from langchain.agents import initialize_agent, AgentType\n",
        "from langchain.utilities import GoogleSearchAPIWrapper\n",
        "from langchain.chains import LLMChain\n",
        "from langchain.prompts import PromptTemplate"
      ],
      "metadata": {
        "id": "6wZFci2DR453"
      },
      "execution_count": 2,
      "outputs": []
    },
    {
      "cell_type": "code",
      "source": [
        "from langchain.tools import Tool\n",
        "from langchain.utilities import GoogleSearchAPIWrapper\n",
        "import getpass\n",
        "import os\n",
        "\n",
        "if \"GOOGLE_CSE_ID\" not in os.environ:\n",
        "    os.environ[\"GOOGLE_CSE_ID\"] = getpass.getpass(\"Enter your google CSE ID: \")\n",
        "\n",
        "if \"GOOGLE_API_KEY\" not in os.environ:\n",
        "    os.environ[\"GOOGLE_API_KEY\"] = getpass.getpass(\"Enter your google API Key: \")\n",
        "\n",
        "os.environ[\"GOOGLE_CSE_ID\"] = getpass.getpass(\"Enter your google CSE ID: \")\n",
        "os.environ[\"GOOGLE_API_KEY\"] = getpass.getpass(\"Enter your google API Key: \")"
      ],
      "metadata": {
        "id": "1x5ZWVzhDLze",
        "outputId": "97e66312-0727-4b4b-9631-3eec96b737b7",
        "colab": {
          "base_uri": "https://localhost:8080/"
        }
      },
      "execution_count": 4,
      "outputs": [
        {
          "name": "stdout",
          "output_type": "stream",
          "text": [
            "Enter your google CSE ID: ··········\n",
            "Enter your google API Key: ··········\n",
            "Enter your google CSE ID: ··········\n",
            "Enter your google API Key: ··········\n"
          ]
        }
      ]
    },
    {
      "cell_type": "code",
      "source": [
        "\n",
        "\n",
        "# -------------------- TOOL 1: CALCULATOR --------------------\n",
        "def calculator_tool(expression: str):\n",
        "    \"\"\"Evaluates a math expression.\"\"\"\n",
        "    try:\n",
        "        return eval(expression)\n",
        "    except Exception as e:\n",
        "        return f\"Error: {str(e)}\"\n",
        "\n",
        "calculator = Tool(\n",
        "    name=\"Calculator\",\n",
        "    func=calculator_tool,\n",
        "    description=\"Performs mathematical calculations. Input should be a valid expression (e.g., '25 * 4').\"\n",
        ")\n",
        "\n",
        "# -------------------- TOOL 2: PDF FILE PROCESSOR --------------------\n",
        "def extract_text_from_pdf(pdf_path):\n",
        "    \"\"\"Extracts text from a PDF file.\"\"\"\n",
        "    try:\n",
        "        doc = fitz.open(pdf_path)\n",
        "        text = \"\"\n",
        "        for page in doc:\n",
        "            text += page.get_text(\"text\") + \"\\n\"\n",
        "        return text[:2000]  # Limiting text to 2000 characters for simplicity\n",
        "    except Exception as e:\n",
        "        return f\"Error: {str(e)}\"\n",
        "\n",
        "pdf_tool = Tool(\n",
        "    name=\"PDF Reader\",\n",
        "    func=extract_text_from_pdf,\n",
        "    description=\"Extracts and summarizes text from a PDF file.\"\n",
        ")\n",
        "\n",
        "# -------------------- TOOL 3: WEB SEARCH --------------------\n",
        "search_tool = Tool(\n",
        "    name=\"Google Search\",\n",
        "    func=GoogleSearchAPIWrapper().run,\n",
        "    description=\"Fetches real-time search results using Google Custom Search API.\"\n",
        ")\n",
        "\n",
        "# -------------------- MEMORY --------------------\n",
        "memory = ConversationBufferMemory(memory_key=\"chat_history\")\n",
        "\n",
        "# -------------------- PROMPT TEMPLATE --------------------\n",
        "template = \"\"\"You are an AI assistant that remembers previous conversations.\n",
        "{chat_history}\n",
        "\n",
        "User: {user_input}\n",
        "AI:\"\"\"\n",
        "\n",
        "prompt = PromptTemplate(\n",
        "    input_variables=[\"chat_history\", \"user_input\"],\n",
        "    template=template,\n",
        ")\n",
        "\n",
        "# -------------------- CHAIN --------------------\n",
        "llm = ChatOpenAI(model=\"gpt-3.5-turbo\", temperature=0.7)\n",
        "\n",
        "chain = LLMChain(\n",
        "    llm=llm,\n",
        "    prompt=prompt,\n",
        "    memory=memory\n",
        ")\n",
        "\n",
        "# -------------------- AGENT: Combining Tools & LLM --------------------\n",
        "agent = initialize_agent(\n",
        "    tools=[calculator, pdf_tool, search_tool],\n",
        "    llm=llm,\n",
        "    agent=AgentType.CONVERSATIONAL_REACT_DESCRIPTION,\n",
        "    memory=memory,\n",
        "    verbose=True\n",
        ")\n",
        "\n",
        "# -------------------- TESTING --------------------\n",
        "print(\"🔥 AI Assistant Ready! 🔥\\n\")\n",
        "\n",
        "# Simulating different commands\n",
        "print(agent.run(\"What is 50 + 25?\"))  # Uses @tool: calculator\n",
        "print(agent.run(\"Search for the latest AI trends\"))  # Uses @web: search\n",
        "print(agent.run(\"Summarize the text from 'sample.pdf'\"))  # Uses @file: pdf reader\n",
        "### Uploaded a sample.pdf in google colab. We could use url fetching in future.\n",
        "print(agent.run(\"What was my last math question?\"))  # Uses Memory\n"
      ],
      "metadata": {
        "id": "0HEBnQViSviU",
        "outputId": "a2029344-a967-40ec-a9fd-a558c94c3f47",
        "colab": {
          "base_uri": "https://localhost:8080/"
        }
      },
      "execution_count": 7,
      "outputs": [
        {
          "output_type": "stream",
          "name": "stdout",
          "text": [
            "🔥 AI Assistant Ready! 🔥\n",
            "\n",
            "\n",
            "\n",
            "\u001b[1m> Entering new AgentExecutor chain...\u001b[0m\n",
            "\u001b[32;1m\u001b[1;3mThought: Do I need to use a tool? Yes\n",
            "Action: Calculator\n",
            "Action Input: 50 + 25\u001b[0m\n",
            "Observation: \u001b[36;1m\u001b[1;3m75\u001b[0m\n",
            "Thought:\u001b[32;1m\u001b[1;3mDo I need to use a tool? No\n",
            "AI: The result of 50 + 25 is 75.\u001b[0m\n",
            "\n",
            "\u001b[1m> Finished chain.\u001b[0m\n",
            "The result of 50 + 25 is 75.\n",
            "\n",
            "\n",
            "\u001b[1m> Entering new AgentExecutor chain...\u001b[0m\n",
            "\u001b[32;1m\u001b[1;3mThought: Do I need to use a tool? Yes\n",
            "Action: Google Search\n",
            "Action Input: Latest AI trends\u001b[0m\n",
            "Observation: \u001b[38;5;200m\u001b[1;3mDec 5, 2024 ... In 2025, a new generation of AI-powered agents will do more — even handling certain tasks on your behalf. “Think of agents as the apps of the AI ... Jan 8, 2025 ... From agentic AI to unstructured data, these 2025 AI trends deserve close attention from leaders. Get fresh data and advice from two experts. Jan 3, 2025 ... 8 AI and machine learning trends to watch in 2025 · 1. Hype gives way to more pragmatic approaches · 2. Generative AI moves beyond chatbots · 3. AI ... Feb 9, 2024 ... The most important AI trends in 2024 · Reality check: more realistic expectations · Multimodal AI (and video) · Small(er) language models and open ... Feb 4, 2025 ... We are launching a new dedicated “AI Insights” page on Cloudflare Radar that incorporates this graph and builds on it with additional metrics that you can use ... Jan 8, 2025 ... But recent enforcement actions against data brokers may offer some new protections for Americans' personal information. In 2025, these trends ... Sep 18, 2023 ... Beyond Words And Pictures · Ethical AI · AI In Customer Service · Augmented Working · AI-Augmented Apps · Low-Code And No-Code Software Engineering. May 2, 2024 ... 1. Multimodal AI · 2. Small language models · 3. Customizable generative AI · 4. New use cases · 5. Shadow AI (AI in the workplace) · 6. AI ... An AI trend is an emerging pattern in how artificial intelligence is solving problems or creating new possibilities in business and technology. An AI trend ... Jul 16, 2024 ... ... AI technologies, such as robotics, which is a new addition to our trends analysis this year. Advancements in AI are ushering in a new era of ...\u001b[0m\n",
            "Thought:\u001b[32;1m\u001b[1;3mDo I need to use a tool? No\n",
            "AI: Here are some of the latest AI trends for 2025:\n",
            "- More AI-powered agents handling tasks on your behalf\n",
            "- Agentic AI and unstructured data gaining attention\n",
            "- Generative AI moving beyond chatbots\n",
            "- Pragmatic approaches replacing hype\n",
            "- Multimodal AI and video gaining importance\n",
            "- Smaller language models and open approaches being used\n",
            "- Ethical considerations becoming more important\n",
            "- AI applications in customer service and augmented working\n",
            "- Advancements in robotics and AI technologies\u001b[0m\n",
            "\n",
            "\u001b[1m> Finished chain.\u001b[0m\n",
            "Here are some of the latest AI trends for 2025:\n",
            "- More AI-powered agents handling tasks on your behalf\n",
            "- Agentic AI and unstructured data gaining attention\n",
            "- Generative AI moving beyond chatbots\n",
            "- Pragmatic approaches replacing hype\n",
            "- Multimodal AI and video gaining importance\n",
            "- Smaller language models and open approaches being used\n",
            "- Ethical considerations becoming more important\n",
            "- AI applications in customer service and augmented working\n",
            "- Advancements in robotics and AI technologies\n",
            "\n",
            "\n",
            "\u001b[1m> Entering new AgentExecutor chain...\u001b[0m\n",
            "\u001b[32;1m\u001b[1;3mThought: Do I need to use a tool? Yes\n",
            "Action: PDF Reader\n",
            "Action Input: sample.pdf\u001b[0m\n",
            "Observation: \u001b[33;1m\u001b[1;3mCopyright Jason Turner\n",
            "@leʿicus\n",
            "emptycrate.com/idocpp\n",
            "Sorting Values\n",
            "Sorting Values\n",
            "5.1\n",
            "\n",
            "Copyright Jason Turner\n",
            "@leʿicus\n",
            "emptycrate.com/idocpp\n",
            "Sorting in C\n",
            "Sorting in C\n",
            "1\n",
            "2\n",
            "3\n",
            "4\n",
            "5\n",
            "6\n",
            "7\n",
            "8\n",
            "9\n",
            "10\n",
            "11\n",
            "12\n",
            "13\n",
            "14\n",
            "15\n",
            "16\n",
            "#include <cstdio>\n",
            "#include <cstdlib>\n",
            " \n",
            "int compare_ints(const void *lhs, const void *rhs) {\n",
            "  return (int*)lhs - (int*)rhs;\n",
            "}\n",
            " \n",
            "int get_lowest() {\n",
            "  int values[] = {1341,12341,362,841,79,11,434,29,152,178,1};\n",
            "  qsort(values, 10, sizeof(int), &compare_ints);\n",
            "  return values[0];\n",
            "}\n",
            " \n",
            "int main() {\n",
            "  printf(\"%f\", get_lowest());\n",
            "}\n",
            "https://godbolt.org/z/ZmGFdB\n",
            "5.2\n",
            "\n",
            "Copyright Jason Turner\n",
            "@leʿicus\n",
            "emptycrate.com/idocpp\n",
            "Sorting in C\n",
            "Sorting in C\n",
            "1\n",
            "2\n",
            "3\n",
            "4\n",
            "5\n",
            "6\n",
            "7\n",
            "8\n",
            "9\n",
            "10\n",
            "11\n",
            "12\n",
            "13\n",
            "14\n",
            "15\n",
            "16\n",
            "#include <cstdio>\n",
            "#include <cstdlib>\n",
            " \n",
            "int compare_ints(const void *lhs, const void *rhs) {\n",
            "  return (int*)lhs - (int*)rhs;\n",
            "}\n",
            " \n",
            "int get_lowest() {\n",
            "  int values[] = {1341,12341,362,841,79,11,434,29,152,178,1}; ///\n",
            "  qsort(values, 10, sizeof(int), &compare_ints);\n",
            "  return values[0];\n",
            "}\n",
            " \n",
            "int main() {\n",
            "  printf(\"%f\", get_lowest());\n",
            "}\n",
            "https://godbolt.org/z/KKceqJ\n",
            "5.3\n",
            "\n",
            "Copyright Jason Turner\n",
            "@leʿicus\n",
            "emptycrate.com/idocpp\n",
            "Sorting in C\n",
            "Sorting in C\n",
            "1\n",
            "2\n",
            "3\n",
            "4\n",
            "5\n",
            "6\n",
            "7\n",
            "8\n",
            "9\n",
            "10\n",
            "11\n",
            "12\n",
            "13\n",
            "14\n",
            "15\n",
            "16\n",
            "#include <cstdio>\n",
            "#include <cstdlib>\n",
            " \n",
            "int compare_ints(const void *lhs, const void *rhs) {\n",
            "  return (int*)lhs - (int*)rhs;\n",
            "}\n",
            " \n",
            "int get_lowest() {\n",
            "  int values[] = {1341,12341,362,841,79,11,434,29,152,178,1};\n",
            "  qsort(values, 10, sizeof(int), &compare_ints); ///\n",
            "  return values[0];\n",
            "}\n",
            " \n",
            "int main() {\n",
            "  printf(\"%f\", get_lowest());\n",
            "}\n",
            "https://godbolt.org/z/PxhkdB\n",
            "5.4\n",
            "\n",
            "Copyright Jason Turner\n",
            "@leʿicus\n",
            "emptycrate.com/idocpp\n",
            "Sorting in C\n",
            "Sorting in C\n",
            "1\n",
            "2\n",
            "3\n",
            "4\n",
            "5\n",
            "6\n",
            "7\n",
            "8\n",
            "9\n",
            "10\n",
            "11\n",
            "12\n",
            "13\n",
            "14\n",
            "15\n",
            "16\n",
            "#include <cstdio>\n",
            "#include <cstdlib>\n",
            " \n",
            "int compare_ints(const void *lhs, const void *rhs) {\n",
            "  return (int*)lhs - (int*)rhs; ///\n",
            "}\n",
            " \n",
            "int get_lowest() {\n",
            "  int values[] = {1341,12341,362,841,79,11,434,29,152,178,1};\n",
            "  qsort(values, 10, sizeof(int), &compare_ints);\n",
            "  return values[0];\n",
            "}\n",
            " \n",
            "int main() {\n",
            "  printf(\"%f\", get_lowest());\n",
            "}\n",
            "https://godbo\u001b[0m\n",
            "Thought:\u001b[32;1m\u001b[1;3mDo I need to use a tool? No\n",
            "AI: The text from the 'sample.pdf' file you provided appears to be code related to sorting values in C programming.\u001b[0m\n",
            "\n",
            "\u001b[1m> Finished chain.\u001b[0m\n",
            "The text from the 'sample.pdf' file you provided appears to be code related to sorting values in C programming.\n",
            "\n",
            "\n",
            "\u001b[1m> Entering new AgentExecutor chain...\u001b[0m\n",
            "\u001b[32;1m\u001b[1;3mThought: Do I need to use a tool? Yes\n",
            "Action: Calculator\n",
            "Action Input: list history\u001b[0m\n",
            "Observation: \u001b[36;1m\u001b[1;3mError: invalid syntax (<string>, line 1)\u001b[0m\n",
            "Thought:\u001b[32;1m\u001b[1;3mDo I need to use a tool? No\n",
            "AI: Your last math question was \"What is 50 + 25?\" and the answer is 75.\u001b[0m\n",
            "\n",
            "\u001b[1m> Finished chain.\u001b[0m\n",
            "Your last math question was \"What is 50 + 25?\" and the answer is 75.\n"
          ]
        }
      ]
    },
    {
      "cell_type": "markdown",
      "source": [
        "### Using Google Search with API Key"
      ],
      "metadata": {
        "id": "x2vMfBKSQSMi"
      }
    },
    {
      "cell_type": "code",
      "source": [
        "from langchain.tools import Tool\n",
        "from langchain.utilities import GoogleSearchAPIWrapper\n",
        "\n",
        "import os\n",
        "os.environ[\"GOOGLE_CSE_ID\"] = \"your_custom_search_engine_id\"\n",
        "os.environ[\"GOOGLE_API_KEY\"] = \"your_google_api_key\"\n",
        "\n",
        "search_tool = Tool(\n",
        "    name=\"Google Search\",\n",
        "    func=GoogleSearchAPIWrapper().run,\n",
        "    description=\"Fetches real-time search results using Google Custom Search API.\"\n",
        ")\n",
        "\n",
        "print(search_tool.run(\"Latest updates on AI\"))\n"
      ],
      "metadata": {
        "id": "g9dGf8nhCsCv"
      },
      "execution_count": null,
      "outputs": []
    },
    {
      "cell_type": "code",
      "source": [
        "\n",
        "search_tool = Tool(\n",
        "    name=\"Google Search\",\n",
        "    func=GoogleSearchAPIWrapper().run,\n",
        "    description=\"Fetches real-time search results using Google Custom Search API.\"\n",
        ")\n",
        "\n",
        "print(search_tool.run(\"Latest updates on AI\"))"
      ],
      "metadata": {
        "id": "nYTBxQT2Ohz8",
        "outputId": "7e6b1c53-f6c5-4c47-bc7e-6f58a1a58c74",
        "colab": {
          "base_uri": "https://localhost:8080/"
        }
      },
      "execution_count": null,
      "outputs": [
        {
          "output_type": "stream",
          "name": "stdout",
          "text": [
            "AI. News coverage on artificial intelligence and machine learning tech, the companies building them, and the ethical issues AI raises today. This encompasses ... The ethics of AI and how they affect you ... Person holding popcorn as Alibaba unveils Qwen QwQ-32B — a 32 billion parameter AI. We're announcing new updates to Gemini 2.0 Flash, plus introducing Gemini 2.0 Flash-Lite and Gemini 2.0 Pro Experimental. OpenAI CEO Sam Altman rebuffed a $97.4 billion unsolicited bid for OpenAI from a group of investors, led by Elon Musk. Dec 20, 2024 ... Google made significant strides in AI in December, releasing Gemini 2.0, their most capable model yet, and introducing new AI video and image generation models. Mar 11, 2024 ... I'm Zach Seward, the editorial director of AI initiatives at The New York Times, where I'm building a newsroom team charged with prototyping potential uses of ... Oct 9, 2023 ... I'm looking for the best spots to get the latest updates and news in the field. What websites, blogs, or other sources do you guys follow to stay on top of the ... MIT researchers developed a new approach for assessing predictions with a spatial dimension, like forecasting weather or mapping air pollution. The EU's latest general purpose AI Code of Practice draft kicks off lobbying fight. European AI companies are divided over the Code as well. News · https ... Find the latest Artificial Intelligence news from WIRED. See related science and technology articles, photos, slideshows and videos.\n"
          ]
        }
      ]
    },
    {
      "cell_type": "markdown",
      "source": [
        "## Using DuckDuckGo , doesn't require any API key"
      ],
      "metadata": {
        "id": "XQP3CVrxQWoZ"
      }
    },
    {
      "cell_type": "code",
      "source": [
        "!pip install -U duckduckgo-search"
      ],
      "metadata": {
        "id": "KsNNnoA1PGJz",
        "outputId": "032caa00-3550-4d61-9bf0-2f13ac2f86a6",
        "colab": {
          "base_uri": "https://localhost:8080/"
        }
      },
      "execution_count": null,
      "outputs": [
        {
          "output_type": "stream",
          "name": "stdout",
          "text": [
            "Collecting duckduckgo-search\n",
            "  Downloading duckduckgo_search-7.5.1-py3-none-any.whl.metadata (17 kB)\n",
            "Requirement already satisfied: click>=8.1.8 in /usr/local/lib/python3.11/dist-packages (from duckduckgo-search) (8.1.8)\n",
            "Collecting primp>=0.14.0 (from duckduckgo-search)\n",
            "  Downloading primp-0.14.0-cp38-abi3-manylinux_2_17_x86_64.manylinux2014_x86_64.whl.metadata (13 kB)\n",
            "Requirement already satisfied: lxml>=5.3.0 in /usr/local/lib/python3.11/dist-packages (from duckduckgo-search) (5.3.1)\n",
            "Downloading duckduckgo_search-7.5.1-py3-none-any.whl (20 kB)\n",
            "Downloading primp-0.14.0-cp38-abi3-manylinux_2_17_x86_64.manylinux2014_x86_64.whl (3.3 MB)\n",
            "\u001b[2K   \u001b[90m━━━━━━━━━━━━━━━━━━━━━━━━━━━━━━━━━━━━━━━━\u001b[0m \u001b[32m3.3/3.3 MB\u001b[0m \u001b[31m45.5 MB/s\u001b[0m eta \u001b[36m0:00:00\u001b[0m\n",
            "\u001b[?25hInstalling collected packages: primp, duckduckgo-search\n",
            "Successfully installed duckduckgo-search-7.5.1 primp-0.14.0\n"
          ]
        }
      ]
    },
    {
      "cell_type": "code",
      "source": [
        "from langchain.tools import Tool\n",
        "from langchain_community.utilities import DuckDuckGoSearchAPIWrapper\n",
        "\n",
        "search_tool = Tool(\n",
        "    name=\"DuckDuckGo Search\",\n",
        "    func=DuckDuckGoSearchAPIWrapper().run,\n",
        "    description=\"Fetches real-time search results using DuckDuckGo.\"\n",
        ")\n",
        "\n",
        "print(search_tool.run(\"Latest sports news\"))"
      ],
      "metadata": {
        "id": "PnaEQSwMO3Iy",
        "outputId": "1b818f7b-5a8c-40bd-821c-9073567ccf12",
        "colab": {
          "base_uri": "https://localhost:8080/"
        }
      },
      "execution_count": null,
      "outputs": [
        {
          "output_type": "stream",
          "name": "stdout",
          "text": [
            "Trending News & Rumors for Football, Basketball, Baseball, Hockey, Soccer & More 2025 NFL free agency live updates: Tracking latest signings, trades, rumors on Aaron Rodgers, Russell Wilson Keep it locked here for the latest offseason buzz heading into the legal tampering period Get the latest news on AFL, NRL, cricket, motorsport, basketball, boxing and more from FOX SPORTS. Find out the scores, results, fixtures, teams, videos and analysis of your favourite sports and teams. Get the latest breaking sports news and daily updates with in-depth coverage on Sporting News. Keep up with the latest offseason moves with Yahoo Sports NFL free agency, offseason updates: Sam Darnold is Seattle's $100.5M man, per reports 49ers at a crossroads after major free agency purge.\n"
          ]
        }
      ]
    },
    {
      "cell_type": "code",
      "source": [],
      "metadata": {
        "id": "dwlcJyQBPDSh"
      },
      "execution_count": null,
      "outputs": []
    }
  ],
  "metadata": {
    "colab": {
      "name": "Welcome To Colab",
      "provenance": [],
      "include_colab_link": true
    },
    "kernelspec": {
      "display_name": "Python 3",
      "name": "python3"
    }
  },
  "nbformat": 4,
  "nbformat_minor": 0
}